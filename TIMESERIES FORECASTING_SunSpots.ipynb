{
 "cells": [
  {
   "cell_type": "code",
   "execution_count": null,
   "id": "37d2b60d",
   "metadata": {},
   "outputs": [],
   "source": []
  },
  {
   "cell_type": "code",
   "execution_count": 22,
   "id": "ebe6212f",
   "metadata": {},
   "outputs": [],
   "source": [
    "Train=Data[:5220]\n",
    "Test=Data[5220:]"
   ]
  },
  {
   "cell_type": "code",
   "execution_count": 1,
   "id": "93fc071d",
   "metadata": {},
   "outputs": [
    {
     "name": "stderr",
     "output_type": "stream",
     "text": [
      "C:\\Users\\jinav\\anaconda3\\lib\\site-packages\\scipy\\__init__.py:155: UserWarning: A NumPy version >=1.18.5 and <1.25.0 is required for this version of SciPy (detected version 1.25.2\n",
      "  warnings.warn(f\"A NumPy version >={np_minversion} and <{np_maxversion}\"\n"
     ]
    }
   ],
   "source": [
    "#SUNSPOTS DATASET\n",
    "from pandas import read_csv\n",
    "import numpy as np\n",
    "from keras.models import Sequential\n",
    "from keras.layers import Dense, SimpleRNN\n",
    "from sklearn.preprocessing import MinMaxScaler\n",
    "import math\n",
    "import matplotlib.pyplot as plt\n",
    "\n",
    "Data=read_csv('Sunspots.csv',index_col='Date',parse_dates=True)\n",
    "\n",
    "scaler = MinMaxScaler(feature_range=(0, 1))\n",
    "Data = scaler.fit_transform(Data).flatten()\n",
    "\n",
    "\n"
   ]
  },
  {
   "cell_type": "code",
   "execution_count": 2,
   "id": "c30f2bc8",
   "metadata": {},
   "outputs": [],
   "source": [
    "Train=Data[:5220]\n",
    "Test=Data[5220:]"
   ]
  },
  {
   "cell_type": "code",
   "execution_count": 3,
   "id": "f3d682d5",
   "metadata": {},
   "outputs": [],
   "source": [
    "from keras.preprocessing.sequence import TimeseriesGenerator\n",
    "\n",
    "n_input = 3\n",
    "n_features = 1\n",
    "generator = TimeseriesGenerator(Train, Train, length=n_input, batch_size=1)\n",
    "generatorTest=TimeseriesGenerator(Test,Test,length=n_input,batch_size=1)"
   ]
  },
  {
   "cell_type": "code",
   "execution_count": 6,
   "id": "26b4d84c",
   "metadata": {},
   "outputs": [
    {
     "name": "stdout",
     "output_type": "stream",
     "text": [
      "Given the Array: \n",
      "[0.00030637 0.26192868 0.00061275]\n",
      "Predict this y: \n",
      " [0.29306881]\n"
     ]
    }
   ],
   "source": [
    "X,y = generator[2]\n",
    "print(f'Given the Array: \\n{X.flatten()}')\n",
    "print(f'Predict this y: \\n {y}')\n",
    "     "
   ]
  },
  {
   "cell_type": "code",
   "execution_count": 7,
   "id": "bb06e281",
   "metadata": {},
   "outputs": [],
   "source": [
    "modelSunSpots=Sequential()\n",
    "modelSunSpots.add(SimpleRNN(units=100, input_shape=(n_input,n_features),activation='tanh'))\n",
    "modelSunSpots.add(Dense(units=1,activation='tanh'))\n",
    "modelSunSpots.compile(loss='mean_squared_error', optimizer='adam')"
   ]
  },
  {
   "cell_type": "code",
   "execution_count": 8,
   "id": "785531f3",
   "metadata": {},
   "outputs": [
    {
     "name": "stdout",
     "output_type": "stream",
     "text": [
      "Epoch 1/20\n",
      "5217/5217 [==============================] - 6s 1ms/step - loss: 0.0045\n",
      "Epoch 2/20\n",
      "5217/5217 [==============================] - 6s 1ms/step - loss: 0.0037\n",
      "Epoch 3/20\n",
      "5217/5217 [==============================] - 6s 1ms/step - loss: 0.0035\n",
      "Epoch 4/20\n",
      "5217/5217 [==============================] - 6s 1ms/step - loss: 0.0035\n",
      "Epoch 5/20\n",
      "5217/5217 [==============================] - 6s 1ms/step - loss: 0.0034\n",
      "Epoch 6/20\n",
      "5217/5217 [==============================] - 6s 1ms/step - loss: 0.0033\n",
      "Epoch 7/20\n",
      "5217/5217 [==============================] - 6s 1ms/step - loss: 0.0033\n",
      "Epoch 8/20\n",
      "5217/5217 [==============================] - 6s 1ms/step - loss: 0.0032\n",
      "Epoch 9/20\n",
      "5217/5217 [==============================] - 6s 1ms/step - loss: 0.0032\n",
      "Epoch 10/20\n",
      "5217/5217 [==============================] - 6s 1ms/step - loss: 0.0032\n",
      "Epoch 11/20\n",
      "5217/5217 [==============================] - 6s 1ms/step - loss: 0.0032\n",
      "Epoch 12/20\n",
      "5217/5217 [==============================] - 6s 1ms/step - loss: 0.0031\n",
      "Epoch 13/20\n",
      "5217/5217 [==============================] - 6s 1ms/step - loss: 0.0031\n",
      "Epoch 14/20\n",
      "5217/5217 [==============================] - 6s 1ms/step - loss: 0.0031\n",
      "Epoch 15/20\n",
      "5217/5217 [==============================] - 6s 1ms/step - loss: 0.0031\n",
      "Epoch 16/20\n",
      "5217/5217 [==============================] - 6s 1ms/step - loss: 0.0031\n",
      "Epoch 17/20\n",
      "5217/5217 [==============================] - 6s 1ms/step - loss: 0.0031\n",
      "Epoch 18/20\n",
      "5217/5217 [==============================] - 6s 1ms/step - loss: 0.0030\n",
      "Epoch 19/20\n",
      "5217/5217 [==============================] - 6s 1ms/step - loss: 0.0029\n",
      "Epoch 20/20\n",
      "5217/5217 [==============================] - 6s 1ms/step - loss: 0.0028\n"
     ]
    },
    {
     "data": {
      "text/plain": [
       "<keras.callbacks.History at 0x1826b0bb850>"
      ]
     },
     "execution_count": 8,
     "metadata": {},
     "output_type": "execute_result"
    }
   ],
   "source": [
    "modelSunSpots.fit(generator, epochs=20)"
   ]
  },
  {
   "cell_type": "code",
   "execution_count": 10,
   "id": "5c640c46",
   "metadata": {},
   "outputs": [],
   "source": [
    "generatorTest=TimeseriesGenerator(Test,Test,length=n_input,batch_size=1)"
   ]
  },
  {
   "cell_type": "code",
   "execution_count": 11,
   "id": "52643b95",
   "metadata": {},
   "outputs": [
    {
     "name": "stdout",
     "output_type": "stream",
     "text": [
      "1307/1307 [==============================] - 1s 787us/step\n"
     ]
    }
   ],
   "source": [
    "Predictions=modelSunSpots.predict(generatorTest)"
   ]
  },
  {
   "cell_type": "code",
   "execution_count": 14,
   "id": "22b98f29",
   "metadata": {},
   "outputs": [
    {
     "name": "stdout",
     "output_type": "stream",
     "text": [
      "Actual-- (array([[0.80422794, 0.31391261, 0.80453431]]), array([0.33550979])) \t Predictions--- [0.2867641]\n"
     ]
    }
   ],
   "source": [
    "print(\"Actual--\",generatorTest[30],\"\\t Predictions---\",Predictions[30])"
   ]
  },
  {
   "cell_type": "code",
   "execution_count": 11,
   "id": "04316d3c",
   "metadata": {},
   "outputs": [],
   "source": [
    "C=generator.targets[generator.start_index:generator.end_index + 1]"
   ]
  },
  {
   "cell_type": "code",
   "execution_count": 12,
   "id": "eed5e7b8",
   "metadata": {},
   "outputs": [
    {
     "data": {
      "text/plain": [
       "0.17001506780512307"
      ]
     },
     "execution_count": 12,
     "metadata": {},
     "output_type": "execute_result"
    }
   ],
   "source": [
    "C[5216]"
   ]
  },
  {
   "cell_type": "code",
   "execution_count": 15,
   "id": "ea027e67",
   "metadata": {},
   "outputs": [
    {
     "ename": "AttributeError",
     "evalue": "'Sequential' object has no attribute 'accuracy'",
     "output_type": "error",
     "traceback": [
      "\u001b[1;31m---------------------------------------------------------------------------\u001b[0m",
      "\u001b[1;31mAttributeError\u001b[0m                            Traceback (most recent call last)",
      "\u001b[1;32m~\\AppData\\Local\\Temp\\ipykernel_10372\\1350296984.py\u001b[0m in \u001b[0;36m<module>\u001b[1;34m\u001b[0m\n\u001b[1;32m----> 1\u001b[1;33m \u001b[0mmodelSunSpots\u001b[0m\u001b[1;33m.\u001b[0m\u001b[0maccuracy\u001b[0m\u001b[1;33m\u001b[0m\u001b[1;33m\u001b[0m\u001b[0m\n\u001b[0m",
      "\u001b[1;31mAttributeError\u001b[0m: 'Sequential' object has no attribute 'accuracy'"
     ]
    }
   ],
   "source": [
    "modelSunSpots.accuracy"
   ]
  },
  {
   "cell_type": "code",
   "execution_count": null,
   "id": "64abd185",
   "metadata": {},
   "outputs": [],
   "source": []
  }
 ],
 "metadata": {
  "kernelspec": {
   "display_name": "Python 3 (ipykernel)",
   "language": "python",
   "name": "python3"
  },
  "language_info": {
   "codemirror_mode": {
    "name": "ipython",
    "version": 3
   },
   "file_extension": ".py",
   "mimetype": "text/x-python",
   "name": "python",
   "nbconvert_exporter": "python",
   "pygments_lexer": "ipython3",
   "version": "3.9.13"
  }
 },
 "nbformat": 4,
 "nbformat_minor": 5
}
