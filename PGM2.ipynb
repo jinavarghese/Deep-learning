{
 "cells": [
  {
   "cell_type": "code",
   "execution_count": 3,
   "id": "81caa7c0",
   "metadata": {},
   "outputs": [
    {
     "name": "stdout",
     "output_type": "stream",
     "text": [
      "with Outlier\n",
      "Mean \t 20.083333333333332\n",
      "Median \t 14.0\n",
      "Mode \t 15\n",
      "Variance \t 670.628787878788\n",
      "Standard deviation 25.896501460212498\n"
     ]
    }
   ],
   "source": [
    "#https://www.analyticsvidhya.com/blog/2021/05/detecting-and-treating-outliers-treating-the-odd-one-out/\n",
    "data=[15, 101, 18, 7, 13, 16, 11, 21, 5, 15, 10, 9]\n",
    "import statistics as st\n",
    "print(\"with Outlier\")\n",
    "print(\"Mean \\t\",st.mean(data))\n",
    "print('Median \\t',st.median(data))\n",
    "print('Mode \\t',st.mode(data))\n",
    "print('Variance \\t',st.variance(data))\n",
    "print('Standard deviation',st.stdev(data))"
   ]
  },
  {
   "cell_type": "code",
   "execution_count": 4,
   "id": "6098f75a",
   "metadata": {},
   "outputs": [
    {
     "name": "stderr",
     "output_type": "stream",
     "text": [
      "C:\\Users\\jinav\\anaconda3\\lib\\site-packages\\scipy\\__init__.py:155: UserWarning: A NumPy version >=1.18.5 and <1.25.0 is required for this version of SciPy (detected version 1.25.2\n",
      "  warnings.warn(f\"A NumPy version >={np_minversion} and <{np_maxversion}\"\n"
     ]
    }
   ],
   "source": [
    "#Removing outliers\n",
    "#1. using z -score\n",
    "\n",
    "\n",
    "import numpy as np\n",
    "import pandas as pd\n",
    "import matplotlib.pyplot as plt\n",
    "import seaborn as sns\n",
    "\n",
    "import numpy as np\n",
    "outliers = []\n",
    "def detect_outliers_zscore(data):\n",
    "    thres = 3\n",
    "    mean = np.mean(data)\n",
    "    std = np.std(data)\n",
    "    # print(mean, std)\n",
    "    for i in data:\n",
    "        z_score = (i-mean)/std\n",
    "        if (np.abs(z_score) > thres):\n",
    "            outliers.append(i)\n",
    "    return outliers# Driver code\n",
    "out=detect_outliers_zscore(data)"
   ]
  },
  {
   "cell_type": "code",
   "execution_count": 5,
   "id": "ed492970",
   "metadata": {},
   "outputs": [
    {
     "name": "stdout",
     "output_type": "stream",
     "text": [
      "\t with Outlier  \t without Outlier\n",
      "Mean \t\t 20.08 \t\t 12.73\n",
      "Median \t\t 14.0 \t\t 13\n",
      "Mode \t\t 15 \t\t 15\n",
      "Variance \t 670.63 \t 23.42\n",
      "Standard deviation 25.9 \t 4.84\n"
     ]
    }
   ],
   "source": [
    "\n",
    "NewData = [i for i in data if i not in out]\n",
    "\n",
    "\n",
    "print(\"\\t with Outlier  \\t without Outlier\")\n",
    "print(\"Mean \\t\\t\",round(st.mean(data),2),\"\\t\\t\",round(st.mean(NewData),2))\n",
    "print('Median \\t\\t',round(st.median(data),2),\"\\t\\t\",round(st.median(NewData),2))\n",
    "print('Mode \\t\\t',round(st.mode(data),2),\"\\t\\t\",round(st.mode(NewData),2))\n",
    "print('Variance \\t',round(st.variance(data),2),\"\\t\",round(st.variance(NewData),2))\n",
    "print('Standard deviation',round(st.stdev(data),2),\"\\t\",round(st.stdev(NewData),2))\n"
   ]
  },
  {
   "cell_type": "code",
   "execution_count": 6,
   "id": "24a4ddc3",
   "metadata": {},
   "outputs": [
    {
     "name": "stdout",
     "output_type": "stream",
     "text": [
      "Outliers from IQR method:  [101]\n"
     ]
    }
   ],
   "source": [
    "# using IQR\n",
    "data=[15, 101, 18, 7, 13, 16, 11, 21, 5, 15, 10, 9]\n",
    "outliers = []\n",
    "def detect_outliers_iqr(data):\n",
    "    data = sorted(data)\n",
    "    q1 = np.percentile(data, 25)\n",
    "    q3 = np.percentile(data, 75)\n",
    "    # print(q1, q3)\n",
    "    IQR = q3-q1\n",
    "    lwr_bound = q1-(1.5*IQR)\n",
    "    upr_bound = q3+(1.5*IQR)\n",
    "    # print(lwr_bound, upr_bound)\n",
    "    for i in data: \n",
    "        if (i<lwr_bound or i>upr_bound):\n",
    "            outliers.append(i)\n",
    "    return outliers# Driver code\n",
    "sample_outliers = detect_outliers_iqr(data)\n",
    "print(\"Outliers from IQR method: \", sample_outliers)"
   ]
  },
  {
   "cell_type": "code",
   "execution_count": 7,
   "id": "51fc0178",
   "metadata": {},
   "outputs": [
    {
     "name": "stdout",
     "output_type": "stream",
     "text": [
      "\t with Outlier  \t without Outlier\n",
      "Mean \t\t 20.08 \t\t 12.73\n",
      "Median \t\t 14.0 \t\t 13\n",
      "Mode \t\t 15 \t\t 15\n",
      "Variance \t 670.63 \t 23.42\n",
      "Standard deviation 25.9 \t 4.84\n"
     ]
    }
   ],
   "source": [
    "NewData = [i for i in data if i not in sample_outliers]\n",
    "\n",
    "\n",
    "print(\"\\t with Outlier  \\t without Outlier\")\n",
    "print(\"Mean \\t\\t\",round(st.mean(data),2),\"\\t\\t\",round(st.mean(NewData),2))\n",
    "print('Median \\t\\t',round(st.median(data),2),\"\\t\\t\",round(st.median(NewData),2))\n",
    "print('Mode \\t\\t',round(st.mode(data),2),\"\\t\\t\",round(st.mode(NewData),2))\n",
    "print('Variance \\t',round(st.variance(data),2),\"\\t\",round(st.variance(NewData),2))\n",
    "print('Standard deviation',round(st.stdev(data),2),\"\\t\",round(st.stdev(NewData),2))\n"
   ]
  },
  {
   "cell_type": "code",
   "execution_count": 8,
   "id": "b101e774",
   "metadata": {},
   "outputs": [
    {
     "name": "stdout",
     "output_type": "stream",
     "text": [
      "10 % 7.2  \n",
      " 90% 20.700000000000003 \n",
      "New array: [15.  20.7 18.   7.2 13.  16.  11.  20.7  7.2 15.  10.   9. ]\n"
     ]
    }
   ],
   "source": [
    "# Dealing with outliers\n",
    "#1. Removing(done above)\n",
    "#2.Quantile based flooring and capping\n",
    "\n",
    "data=[15, 101, 18, 7, 13, 16, 11, 21, 5, 15, 10, 9]\n",
    "\n",
    "tenth_percentile = np.percentile(data, 10)\n",
    "ninetieth_percentile = np.percentile(data, 90)\n",
    "# print(tenth_percentile, ninetieth_percentile)\n",
    "b =np.where(data<tenth_percentile, tenth_percentile, data)\n",
    "b = np.where(b>ninetieth_percentile, ninetieth_percentile, b)\n",
    "# print(“Sample:”, sample)\n",
    "print(\"10 %\", tenth_percentile,\" \\n 90%\",ninetieth_percentile,\"\\nNew array:\",b)\n"
   ]
  },
  {
   "cell_type": "code",
   "execution_count": 11,
   "id": "10e5b74a",
   "metadata": {},
   "outputs": [
    {
     "ename": "SyntaxError",
     "evalue": "invalid syntax (664339940.py, line 7)",
     "output_type": "error",
     "traceback": [
      "\u001b[1;36m  File \u001b[1;32m\"C:\\Users\\jinav\\AppData\\Local\\Temp\\ipykernel_1508\\664339940.py\"\u001b[1;36m, line \u001b[1;32m7\u001b[0m\n\u001b[1;33m    newData1=[i for i in data if i not in outliers else median]\u001b[0m\n\u001b[1;37m                                                   ^\u001b[0m\n\u001b[1;31mSyntaxError\u001b[0m\u001b[1;31m:\u001b[0m invalid syntax\n"
     ]
    }
   ],
   "source": [
    "#3. Replace with median value\n",
    "data=[15, 101, 18, 7, 13, 16, 11, 21, 5, 15, 10, 9]\n",
    "median = np.median(data)\n",
    "outliers = detect_outliers_iqr(data)\n",
    "print(\"Median-\",median)\n",
    "newData=[median if i in outliers else i for i in data]\n",
    "print(newData)\n"
   ]
  },
  {
   "cell_type": "code",
   "execution_count": null,
   "id": "e899d960",
   "metadata": {},
   "outputs": [],
   "source": []
  }
 ],
 "metadata": {
  "kernelspec": {
   "display_name": "Python 3 (ipykernel)",
   "language": "python",
   "name": "python3"
  },
  "language_info": {
   "codemirror_mode": {
    "name": "ipython",
    "version": 3
   },
   "file_extension": ".py",
   "mimetype": "text/x-python",
   "name": "python",
   "nbconvert_exporter": "python",
   "pygments_lexer": "ipython3",
   "version": "3.9.13"
  }
 },
 "nbformat": 4,
 "nbformat_minor": 5
}
