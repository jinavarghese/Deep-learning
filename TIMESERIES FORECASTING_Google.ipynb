{
 "cells": [
  {
   "cell_type": "code",
   "execution_count": 27,
   "id": "580b9877",
   "metadata": {},
   "outputs": [],
   "source": [
    "from pandas import read_csv\n",
    "import numpy as np\n",
    "from keras.models import Sequential\n",
    "from keras.layers import Dense, SimpleRNN\n",
    "from sklearn.preprocessing import MinMaxScaler\n",
    "import math\n",
    "import matplotlib.pyplot as plt"
   ]
  },
  {
   "cell_type": "code",
   "execution_count": 28,
   "id": "b6fbcbb7",
   "metadata": {},
   "outputs": [],
   "source": [
    "from sklearn.preprocessing import MinMaxScaler\n",
    "sc = MinMaxScaler(feature_range = (0, 1))\n",
    "training_set=pd.read_csv('Google_Stock_Price_Train.csv',index_col='Date',parse_dates=True)\n",
    "training_set_scaled = sc.fit_transform(training_set)"
   ]
  },
  {
   "cell_type": "code",
   "execution_count": 29,
   "id": "a1090dad",
   "metadata": {},
   "outputs": [],
   "source": [
    "Train=training_set_scaled[:1006]\n",
    "Test=training_set_scaled[1006:]\n"
   ]
  },
  {
   "cell_type": "code",
   "execution_count": 30,
   "id": "9169c14c",
   "metadata": {},
   "outputs": [],
   "source": [
    "from keras.preprocessing.sequence import TimeseriesGenerator\n",
    "\n",
    "n_input = 3\n",
    "n_features = 5\n",
    "generator = TimeseriesGenerator(Train, Train, length=n_input, batch_size=1)\n",
    "generatorTest=TimeseriesGenerator(Test,Test,length=n_input,batch_size=1)"
   ]
  },
  {
   "cell_type": "code",
   "execution_count": 31,
   "id": "4b889931",
   "metadata": {},
   "outputs": [],
   "source": [
    "X,Y=generator[1]"
   ]
  },
  {
   "cell_type": "code",
   "execution_count": 32,
   "id": "a0e71497",
   "metadata": {},
   "outputs": [
    {
     "data": {
      "text/plain": [
       "array([[[0.09701243, 0.09834351, 0.09823458, 0.24151427, 0.22993592],\n",
       "        [0.09433366, 0.09251685, 0.09408623, 0.22878051, 0.26361233],\n",
       "        [0.09156187, 0.08881917, 0.08800576, 0.21641884, 0.21617942]]])"
      ]
     },
     "execution_count": 32,
     "metadata": {},
     "output_type": "execute_result"
    }
   ],
   "source": [
    "X"
   ]
  },
  {
   "cell_type": "code",
   "execution_count": 33,
   "id": "c2d2f41e",
   "metadata": {},
   "outputs": [
    {
     "data": {
      "text/plain": [
       "array([[0.07984225, 0.07671765, 0.06106986, 0.1785483 , 0.46779736]])"
      ]
     },
     "execution_count": 33,
     "metadata": {},
     "output_type": "execute_result"
    }
   ],
   "source": [
    "Y"
   ]
  },
  {
   "cell_type": "code",
   "execution_count": 34,
   "id": "a8321aec",
   "metadata": {},
   "outputs": [],
   "source": [
    "modelGoogle=Sequential()\n",
    "modelGoogle.add(SimpleRNN(units=100, input_shape=(n_input,n_features),activation='tanh'))\n",
    "modelGoogle.add(Dense(units=1,activation='tanh'))\n",
    "modelGoogle.compile(loss='mean_squared_error', optimizer='adam')"
   ]
  },
  {
   "cell_type": "code",
   "execution_count": 35,
   "id": "12c4455a",
   "metadata": {},
   "outputs": [
    {
     "name": "stdout",
     "output_type": "stream",
     "text": [
      "Epoch 1/20\n",
      "1003/1003 [==============================] - 2s 977us/step - loss: 0.0356\n",
      "Epoch 2/20\n",
      "1003/1003 [==============================] - 1s 981us/step - loss: 0.0345\n",
      "Epoch 3/20\n",
      "1003/1003 [==============================] - 1s 982us/step - loss: 0.0344\n",
      "Epoch 4/20\n",
      "1003/1003 [==============================] - 1s 1ms/step - loss: 0.0344\n",
      "Epoch 5/20\n",
      "1003/1003 [==============================] - 1s 997us/step - loss: 0.0343\n",
      "Epoch 6/20\n",
      "1003/1003 [==============================] - 1s 1ms/step - loss: 0.0343\n",
      "Epoch 7/20\n",
      "1003/1003 [==============================] - 1s 997us/step - loss: 0.0343\n",
      "Epoch 8/20\n",
      "1003/1003 [==============================] - 1s 996us/step - loss: 0.0343\n",
      "Epoch 9/20\n",
      "1003/1003 [==============================] - 1s 995us/step - loss: 0.0344\n",
      "Epoch 10/20\n",
      "1003/1003 [==============================] - 1s 994us/step - loss: 0.0343\n",
      "Epoch 11/20\n",
      "1003/1003 [==============================] - 1s 1ms/step - loss: 0.0343\n",
      "Epoch 12/20\n",
      "1003/1003 [==============================] - 1s 1ms/step - loss: 0.0342\n",
      "Epoch 13/20\n",
      "1003/1003 [==============================] - 1s 1ms/step - loss: 0.0343\n",
      "Epoch 14/20\n",
      "1003/1003 [==============================] - 1s 996us/step - loss: 0.0343\n",
      "Epoch 15/20\n",
      "1003/1003 [==============================] - 1s 996us/step - loss: 0.0342\n",
      "Epoch 16/20\n",
      "1003/1003 [==============================] - 1s 1ms/step - loss: 0.0342\n",
      "Epoch 17/20\n",
      "1003/1003 [==============================] - 1s 1000us/step - loss: 0.0342\n",
      "Epoch 18/20\n",
      "1003/1003 [==============================] - 1s 993us/step - loss: 0.0342\n",
      "Epoch 19/20\n",
      "1003/1003 [==============================] - 1s 1ms/step - loss: 0.0342\n",
      "Epoch 20/20\n",
      "1003/1003 [==============================] - 1s 1ms/step - loss: 0.0342\n"
     ]
    },
    {
     "data": {
      "text/plain": [
       "<keras.callbacks.History at 0x27567df6e80>"
      ]
     },
     "execution_count": 35,
     "metadata": {},
     "output_type": "execute_result"
    }
   ],
   "source": [
    "modelGoogle.fit(generator, epochs=20)"
   ]
  },
  {
   "cell_type": "code",
   "execution_count": 21,
   "id": "87502147",
   "metadata": {},
   "outputs": [
    {
     "name": "stdout",
     "output_type": "stream",
     "text": [
      "249/249 [==============================] - 0s 714us/step\n"
     ]
    }
   ],
   "source": [
    "Predictions=modelGoogle.predict(generatorTest)"
   ]
  },
  {
   "cell_type": "code",
   "execution_count": 22,
   "id": "1f2b4930",
   "metadata": {},
   "outputs": [
    {
     "name": "stdout",
     "output_type": "stream",
     "text": [
      "Actual-- (array([[[0.81829005, 0.81944834, 0.82357175, 0.31372738, 0.06492191],\n",
      "        [0.81769477, 0.8184212 , 0.81224428, 0.30486612, 0.07809772],\n",
      "        [0.81083042, 0.81289335, 0.81224428, 0.3027576 , 0.07866239]]]), array([[0.79578094, 0.79720619, 0.77602667, 0.28107989, 0.11923108]])) \t Predictions--- [0.5635658]\n"
     ]
    }
   ],
   "source": [
    "print(\"Actual--\",generatorTest[40],\"\\t Predictions---\",Predictions[40])"
   ]
  },
  {
   "cell_type": "code",
   "execution_count": 23,
   "id": "b5652375",
   "metadata": {},
   "outputs": [
    {
     "data": {
      "text/plain": [
       "array([0.5635658], dtype=float32)"
      ]
     },
     "execution_count": 23,
     "metadata": {},
     "output_type": "execute_result"
    }
   ],
   "source": [
    "Predictions[40]"
   ]
  },
  {
   "cell_type": "code",
   "execution_count": 26,
   "id": "f6830288",
   "metadata": {},
   "outputs": [
    {
     "data": {
      "text/plain": [
       "(array([[[0.81829005, 0.81944834, 0.82357175, 0.31372738, 0.06492191],\n",
       "         [0.81769477, 0.8184212 , 0.81224428, 0.30486612, 0.07809772],\n",
       "         [0.81083042, 0.81289335, 0.81224428, 0.3027576 , 0.07866239]]]),\n",
       " array([[0.79578094, 0.79720619, 0.77602667, 0.28107989, 0.11923108]]))"
      ]
     },
     "execution_count": 26,
     "metadata": {},
     "output_type": "execute_result"
    }
   ],
   "source": [
    "generatorTest[40]"
   ]
  },
  {
   "cell_type": "code",
   "execution_count": null,
   "id": "20c9f674",
   "metadata": {},
   "outputs": [],
   "source": []
  }
 ],
 "metadata": {
  "kernelspec": {
   "display_name": "Python 3 (ipykernel)",
   "language": "python",
   "name": "python3"
  },
  "language_info": {
   "codemirror_mode": {
    "name": "ipython",
    "version": 3
   },
   "file_extension": ".py",
   "mimetype": "text/x-python",
   "name": "python",
   "nbconvert_exporter": "python",
   "pygments_lexer": "ipython3",
   "version": "3.9.13"
  }
 },
 "nbformat": 4,
 "nbformat_minor": 5
}
