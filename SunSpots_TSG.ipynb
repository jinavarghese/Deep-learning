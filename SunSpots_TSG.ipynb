{
 "cells": [
  {
   "cell_type": "code",
   "execution_count": null,
   "id": "37d2b60d",
   "metadata": {},
   "outputs": [],
   "source": [
    "#https://medium.com/analytics-vidhya/natural-language-processing-from-basics-to-using-rnn-and-lstm-ef6779e4ae66"
   ]
  },
  {
   "cell_type": "code",
   "execution_count": 2,
   "id": "93fc071d",
   "metadata": {},
   "outputs": [
    {
     "name": "stderr",
     "output_type": "stream",
     "text": [
      "C:\\Users\\jinav\\anaconda3\\lib\\site-packages\\scipy\\__init__.py:155: UserWarning: A NumPy version >=1.18.5 and <1.25.0 is required for this version of SciPy (detected version 1.25.2\n",
      "  warnings.warn(f\"A NumPy version >={np_minversion} and <{np_maxversion}\"\n"
     ]
    }
   ],
   "source": [
    "#SUNSPOTS DATASET\n",
    "from pandas import read_csv\n",
    "import numpy as np\n",
    "from keras.models import Sequential\n",
    "from keras.layers import Dense, SimpleRNN\n",
    "from sklearn.preprocessing import MinMaxScaler\n",
    "import math\n",
    "import matplotlib.pyplot as plt\n",
    "\n",
    "Data=read_csv('Sunspots.csv',index_col='Date',parse_dates=True)\n",
    "\n",
    "scaler = MinMaxScaler(feature_range=(0, 1))\n",
    "Data = scaler.fit_transform(Data).flatten()\n",
    "time_steps=12\n",
    "\n"
   ]
  },
  {
   "cell_type": "code",
   "execution_count": 3,
   "id": "ebe6212f",
   "metadata": {},
   "outputs": [],
   "source": [
    "Train=Data[:5220]\n",
    "Test=Data[5220:]"
   ]
  },
  {
   "cell_type": "code",
   "execution_count": 4,
   "id": "c30f2bc8",
   "metadata": {},
   "outputs": [
    {
     "data": {
      "text/plain": [
       "5224.0"
      ]
     },
     "execution_count": 4,
     "metadata": {},
     "output_type": "execute_result"
    }
   ],
   "source": [
    "6530*0.8"
   ]
  },
  {
   "cell_type": "code",
   "execution_count": 5,
   "id": "f3d682d5",
   "metadata": {},
   "outputs": [],
   "source": [
    "from keras.preprocessing.sequence import TimeseriesGenerator\n",
    "\n",
    "n_input = 3\n",
    "n_features = 1\n",
    "generator = TimeseriesGenerator(Train, Train, length=n_input, batch_size=1)\n",
    "generatorTest=TimeseriesGenerator(Test,Test,length=n_input,batch_size=1)"
   ]
  },
  {
   "cell_type": "code",
   "execution_count": 6,
   "id": "26b4d84c",
   "metadata": {},
   "outputs": [
    {
     "name": "stdout",
     "output_type": "stream",
     "text": [
      "Given the Array: \n",
      "[0.00490196 0.37669513 0.00520833]\n",
      "Predict this y: \n",
      " [0.41863385]\n"
     ]
    }
   ],
   "source": [
    "X,y = generator[32]\n",
    "print(f'Given the Array: \\n{X.flatten()}')\n",
    "print(f'Predict this y: \\n {y}')\n",
    "     "
   ]
  },
  {
   "cell_type": "code",
   "execution_count": 7,
   "id": "bb06e281",
   "metadata": {},
   "outputs": [],
   "source": [
    "modelSunSpots=Sequential()\n",
    "modelSunSpots.add(SimpleRNN(units=100, input_shape=(n_input,n_features),activation='tanh'))\n",
    "modelSunSpots.add(Dense(units=1,activation='tanh'))\n",
    "modelSunSpots.compile(loss='mean_squared_error', optimizer='adam')"
   ]
  },
  {
   "cell_type": "code",
   "execution_count": 8,
   "id": "785531f3",
   "metadata": {},
   "outputs": [
    {
     "name": "stdout",
     "output_type": "stream",
     "text": [
      "Epoch 1/20\n",
      "5217/5217 [==============================] - 6s 1ms/step - loss: 0.0043\n",
      "Epoch 2/20\n",
      "5217/5217 [==============================] - 5s 978us/step - loss: 0.0036\n",
      "Epoch 3/20\n",
      "5217/5217 [==============================] - 5s 1ms/step - loss: 0.0035\n",
      "Epoch 4/20\n",
      "5217/5217 [==============================] - 5s 1000us/step - loss: 0.0034\n",
      "Epoch 5/20\n",
      "5217/5217 [==============================] - 5s 973us/step - loss: 0.0033\n",
      "Epoch 6/20\n",
      "5217/5217 [==============================] - 5s 1ms/step - loss: 0.0033\n",
      "Epoch 7/20\n",
      "5217/5217 [==============================] - 5s 962us/step - loss: 0.0032\n",
      "Epoch 8/20\n",
      "5217/5217 [==============================] - 5s 946us/step - loss: 0.0032\n",
      "Epoch 9/20\n",
      "5217/5217 [==============================] - 5s 938us/step - loss: 0.0032\n",
      "Epoch 10/20\n",
      "5217/5217 [==============================] - 5s 957us/step - loss: 0.0032\n",
      "Epoch 11/20\n",
      "5217/5217 [==============================] - 5s 971us/step - loss: 0.0032\n",
      "Epoch 12/20\n",
      "5217/5217 [==============================] - 6s 1ms/step - loss: 0.0031\n",
      "Epoch 13/20\n",
      "5217/5217 [==============================] - 5s 1ms/step - loss: 0.0031\n",
      "Epoch 14/20\n",
      "5217/5217 [==============================] - 5s 963us/step - loss: 0.0031\n",
      "Epoch 15/20\n",
      "5217/5217 [==============================] - 5s 963us/step - loss: 0.0030\n",
      "Epoch 16/20\n",
      "5217/5217 [==============================] - 5s 972us/step - loss: 0.0029\n",
      "Epoch 17/20\n",
      "5217/5217 [==============================] - 5s 966us/step - loss: 0.0028\n",
      "Epoch 18/20\n",
      "5217/5217 [==============================] - 5s 943us/step - loss: 0.0028\n",
      "Epoch 19/20\n",
      "5217/5217 [==============================] - 5s 946us/step - loss: 0.0028\n",
      "Epoch 20/20\n",
      "5217/5217 [==============================] - 5s 949us/step - loss: 0.0028\n"
     ]
    },
    {
     "data": {
      "text/plain": [
       "<keras.callbacks.History at 0x1c2a5f7d4c0>"
      ]
     },
     "execution_count": 8,
     "metadata": {},
     "output_type": "execute_result"
    }
   ],
   "source": [
    "modelSunSpots.fit(generator, epochs=20)"
   ]
  },
  {
   "cell_type": "code",
   "execution_count": 9,
   "id": "5c640c46",
   "metadata": {},
   "outputs": [],
   "source": [
    "generatorTest=TimeseriesGenerator(Test,Test,length=n_input,batch_size=1)"
   ]
  },
  {
   "cell_type": "code",
   "execution_count": 10,
   "id": "52643b95",
   "metadata": {},
   "outputs": [
    {
     "name": "stdout",
     "output_type": "stream",
     "text": [
      "1307/1307 [==============================] - 1s 635us/step\n"
     ]
    }
   ],
   "source": [
    "Predictions=modelSunSpots.predict(generatorTest)"
   ]
  },
  {
   "cell_type": "code",
   "execution_count": 11,
   "id": "22b98f29",
   "metadata": {},
   "outputs": [
    {
     "name": "stdout",
     "output_type": "stream",
     "text": [
      "Actual-- (array([[0.8057598 , 0.32772476, 0.80606618]]), array([0.2887996])) \t Predictions--- [0.3246229]\n"
     ]
    }
   ],
   "source": [
    "print(\"Actual--\",generatorTest[40],\"\\t Predictions---\",Predictions[40])"
   ]
  },
  {
   "cell_type": "code",
   "execution_count": 13,
   "id": "04316d3c",
   "metadata": {},
   "outputs": [],
   "source": [
    "C=generator.targets[generator.start_index:generator.end_index + 1]"
   ]
  },
  {
   "cell_type": "code",
   "execution_count": 18,
   "id": "11b702a2",
   "metadata": {},
   "outputs": [
    {
     "data": {
      "text/plain": [
       "0.17001506780512307"
      ]
     },
     "execution_count": 18,
     "metadata": {},
     "output_type": "execute_result"
    }
   ],
   "source": [
    "C[5216]"
   ]
  },
  {
   "cell_type": "code",
   "execution_count": null,
   "id": "b269dd3d",
   "metadata": {},
   "outputs": [],
   "source": []
  },
  {
   "cell_type": "code",
   "execution_count": null,
   "id": "1161d7ce",
   "metadata": {},
   "outputs": [],
   "source": []
  }
 ],
 "metadata": {
  "kernelspec": {
   "display_name": "Python 3 (ipykernel)",
   "language": "python",
   "name": "python3"
  },
  "language_info": {
   "codemirror_mode": {
    "name": "ipython",
    "version": 3
   },
   "file_extension": ".py",
   "mimetype": "text/x-python",
   "name": "python",
   "nbconvert_exporter": "python",
   "pygments_lexer": "ipython3",
   "version": "3.9.13"
  }
 },
 "nbformat": 4,
 "nbformat_minor": 5
}
