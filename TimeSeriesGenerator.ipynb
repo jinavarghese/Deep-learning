{
 "cells": [
  {
   "cell_type": "code",
   "execution_count": 7,
   "id": "897e6165",
   "metadata": {},
   "outputs": [],
   "source": [
    "\n",
    "from numpy import array\n",
    "from keras.models import Sequential\n",
    "from keras.layers import Dense\n",
    "from keras.layers import SimpleRNN\n",
    "from keras.preprocessing.sequence import TimeseriesGenerator\n",
    "\n",
    "DATA = array([1, 2, 3, 4, 5, 6, 7, 8, 9, 10])\n",
    "# reshape to [10, 1]\n",
    "n_features = 1\n",
    "DATA = DATA.reshape(10, 1) # RESHAPING TO ROW VECTOR WITH COLUMNS EQUAL TO THE NO OF FEATURES\n",
    "\n",
    "# define generator\n",
    "n_input = 2\n",
    "generator = TimeseriesGenerator(DATA, DATA, length=n_input, batch_size=8)\n"
   ]
  },
  {
   "cell_type": "code",
   "execution_count": 8,
   "id": "9bc60d69",
   "metadata": {},
   "outputs": [
    {
     "data": {
      "text/plain": [
       "array([[1],\n",
       "       [2],\n",
       "       [3]])"
      ]
     },
     "execution_count": 8,
     "metadata": {},
     "output_type": "execute_result"
    }
   ],
   "source": [
    "DATA[0:3]"
   ]
  },
  {
   "cell_type": "code",
   "execution_count": 10,
   "id": "a9ac6656",
   "metadata": {},
   "outputs": [],
   "source": [
    "x,y=generator[0]"
   ]
  },
  {
   "cell_type": "code",
   "execution_count": 12,
   "id": "8a72da04",
   "metadata": {},
   "outputs": [
    {
     "data": {
      "text/plain": [
       "array([[ 3],\n",
       "       [ 4],\n",
       "       [ 5],\n",
       "       [ 6],\n",
       "       [ 7],\n",
       "       [ 8],\n",
       "       [ 9],\n",
       "       [10]])"
      ]
     },
     "execution_count": 12,
     "metadata": {},
     "output_type": "execute_result"
    }
   ],
   "source": [
    "y"
   ]
  },
  {
   "cell_type": "code",
   "execution_count": 13,
   "id": "b09076cc",
   "metadata": {},
   "outputs": [
    {
     "name": "stderr",
     "output_type": "stream",
     "text": [
      "C:\\Users\\jinav\\AppData\\Local\\Temp\\ipykernel_14008\\2734136437.py:8: UserWarning: `Model.fit_generator` is deprecated and will be removed in a future version. Please use `Model.fit`, which supports generators.\n",
      "  model.fit_generator(generator, steps_per_epoch=1, epochs=500, verbose=0)\n"
     ]
    },
    {
     "data": {
      "text/plain": [
       "<keras.callbacks.History at 0x26a3f8c0dc0>"
      ]
     },
     "execution_count": 13,
     "metadata": {},
     "output_type": "execute_result"
    }
   ],
   "source": [
    "\n",
    "# define model\n",
    "model = Sequential()\n",
    "model.add(SimpleRNN(100, activation='relu', input_shape=(n_input, n_features)))\n",
    "model.add(Dense(1))\n",
    "model.compile(optimizer='adam', loss='mse')\n",
    "\n",
    "# fit model\n",
    "model.fit_generator(generator, steps_per_epoch=1, epochs=500, verbose=0)\n",
    "# make a one step prediction out of sample\n"
   ]
  },
  {
   "cell_type": "code",
   "execution_count": 14,
   "id": "499ad4ec",
   "metadata": {},
   "outputs": [
    {
     "name": "stdout",
     "output_type": "stream",
     "text": [
      "1/1 [==============================] - 0s 116ms/step\n",
      "[[11.090035]]\n"
     ]
    }
   ],
   "source": [
    "\n",
    "TEST=array([9,10])\n",
    "x_input = TEST.reshape((1, n_input, n_features))\n",
    "yhat = model.predict(x_input)\n",
    "print(yhat)"
   ]
  },
  {
   "cell_type": "code",
   "execution_count": null,
   "id": "713d69f2",
   "metadata": {},
   "outputs": [],
   "source": []
  }
 ],
 "metadata": {
  "kernelspec": {
   "display_name": "Python 3 (ipykernel)",
   "language": "python",
   "name": "python3"
  },
  "language_info": {
   "codemirror_mode": {
    "name": "ipython",
    "version": 3
   },
   "file_extension": ".py",
   "mimetype": "text/x-python",
   "name": "python",
   "nbconvert_exporter": "python",
   "pygments_lexer": "ipython3",
   "version": "3.9.13"
  }
 },
 "nbformat": 4,
 "nbformat_minor": 5
}
